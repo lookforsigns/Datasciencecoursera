{
 "cells": [
  {
   "cell_type": "code",
   "execution_count": null,
   "id": "8a11d94e",
   "metadata": {},
   "outputs": [],
   "source": [
    "#!pip install openpyxl\n",
    "import pandas as pd\n",
    "import openpyxl # to read xls\n",
    "import urllib.request\n",
    "from PIL import Image  # image processing library\n",
    "import numpy as np # import numpy library\n",
    "import re # import library for regular expression\n",
    "import random # library for random number generation\n",
    "\n",
    "from sklearn import tree\n",
    "from sklearn.metrics import accuracy_score, confusion_matrix\n",
    "\n",
    "import matplotlib.pyplot as plt\n",
    "\n",
    "from sklearn.tree import export_graphviz\n",
    "\n",
    "import itertools"
   ]
  },
  {
   "cell_type": "code",
   "execution_count": null,
   "id": "e95436e5",
   "metadata": {},
   "outputs": [],
   "source": [
    "pd.set_option('display.max_columns', None)\n",
    "\n",
    "recipes = pd.read_csv(\"https://cf-courses-data.s3.us.cloud-object-storage.appdomain.cloud/IBMDeveloperSkillsNetwork-DS0103EN-SkillsNetwork/labs/Module%202/recipes.csv\")\n",
    "\n",
    "print(\"Data read into dataframe!\") # takes about 30 seconds"
   ]
  },
  {
   "cell_type": "code",
   "execution_count": null,
   "id": "6372520b",
   "metadata": {},
   "outputs": [],
   "source": [
    "recipes.shape # (57691, 384) # each row is a recipe, each column is the ingredient (true/false whether included)"
   ]
  },
  {
   "cell_type": "code",
   "execution_count": null,
   "id": "b71dc276",
   "metadata": {},
   "outputs": [],
   "source": [
    "ingredients = list(recipes.columns.values)"
   ]
  },
  {
   "cell_type": "code",
   "execution_count": null,
   "id": "4444855f",
   "metadata": {},
   "outputs": [],
   "source": [
    "#print all specific formats of words including a string\n",
    "\n",
    "print([match.group(0) for ingredient in ingredients for match in [(re.compile(\".*(lingonberry).*\")).search(ingredient)] if match])\n",
    "print([match.group(0) for ingredient in ingredients for match in [(re.compile(\".*(rye).*\")).search(ingredient)] if match])\n",
    "print([match.group(0) for ingredient in ingredients for match in [(re.compile(\".*(salmon).*\")).search(ingredient)] if match])\n",
    "print([match.group(0) for ingredient in ingredients for match in [(re.compile(\".*(oat).*\")).search(ingredient)] if match])"
   ]
  },
  {
   "cell_type": "code",
   "execution_count": null,
   "id": "3d46aed5",
   "metadata": {},
   "outputs": [],
   "source": [
    "recipes[\"country\"].value_counts() # frequency table\n",
    "# some have only a few recipes, skewed towards American blergh"
   ]
  },
  {
   "cell_type": "code",
   "execution_count": null,
   "id": "af42b6c8",
   "metadata": {},
   "outputs": [],
   "source": [
    "print(recipes[\"country\"].unique()) # show actual terms\n",
    "\n",
    "# names are duplicates and lowercase letters, variable name is not consistent with what we want"
   ]
  },
  {
   "cell_type": "code",
   "execution_count": null,
   "id": "a64d9336",
   "metadata": {},
   "outputs": [],
   "source": [
    "# fix column name\n",
    "\n",
    "column_names = recipes.columns.values\n",
    "column_names[0] = \"cuisine\"\n",
    "recipes.columns = column_names\n",
    "\n",
    "# make all names lowercase\n",
    "recipes[\"cuisine\"] = recipes[\"cuisine\"].str.lower()\n",
    "\n",
    "recipes"
   ]
  },
  {
   "cell_type": "code",
   "execution_count": null,
   "id": "087bf1e1",
   "metadata": {},
   "outputs": [],
   "source": [
    "# make names consistent\n",
    "\n",
    "recipes.loc[recipes[\"cuisine\"] == \"austria\", \"cuisine\"] = \"austrian\"\n",
    "recipes.loc[recipes[\"cuisine\"] == \"belgium\", \"cuisine\"] = \"belgian\"\n",
    "recipes.loc[recipes[\"cuisine\"] == \"china\", \"cuisine\"] = \"chinese\"\n",
    "recipes.loc[recipes[\"cuisine\"] == \"canada\", \"cuisine\"] = \"canadian\"\n",
    "recipes.loc[recipes[\"cuisine\"] == \"netherlands\", \"cuisine\"] = \"dutch\"\n",
    "recipes.loc[recipes[\"cuisine\"] == \"france\", \"cuisine\"] = \"french\"\n",
    "recipes.loc[recipes[\"cuisine\"] == \"germany\", \"cuisine\"] = \"german\"\n",
    "recipes.loc[recipes[\"cuisine\"] == \"india\", \"cuisine\"] = \"indian\"\n",
    "recipes.loc[recipes[\"cuisine\"] == \"indonesia\", \"cuisine\"] = \"indonesian\"\n",
    "recipes.loc[recipes[\"cuisine\"] == \"iran\", \"cuisine\"] = \"iranian\"\n",
    "recipes.loc[recipes[\"cuisine\"] == \"italy\", \"cuisine\"] = \"italian\"\n",
    "recipes.loc[recipes[\"cuisine\"] == \"japan\", \"cuisine\"] = \"japanese\"\n",
    "recipes.loc[recipes[\"cuisine\"] == \"israel\", \"cuisine\"] = \"israeli\"\n",
    "recipes.loc[recipes[\"cuisine\"] == \"korea\", \"cuisine\"] = \"korean\"\n",
    "recipes.loc[recipes[\"cuisine\"] == \"lebanon\", \"cuisine\"] = \"lebanese\"\n",
    "recipes.loc[recipes[\"cuisine\"] == \"malaysia\", \"cuisine\"] = \"malaysian\"\n",
    "recipes.loc[recipes[\"cuisine\"] == \"mexico\", \"cuisine\"] = \"mexican\"\n",
    "recipes.loc[recipes[\"cuisine\"] == \"pakistan\", \"cuisine\"] = \"pakistani\"\n",
    "recipes.loc[recipes[\"cuisine\"] == \"philippines\", \"cuisine\"] = \"philippine\"\n",
    "recipes.loc[recipes[\"cuisine\"] == \"scandinavia\", \"cuisine\"] = \"scandinavian\"\n",
    "recipes.loc[recipes[\"cuisine\"] == \"spain\", \"cuisine\"] = \"spanish_portuguese\"\n",
    "recipes.loc[recipes[\"cuisine\"] == \"portugal\", \"cuisine\"] = \"spanish_portuguese\"\n",
    "recipes.loc[recipes[\"cuisine\"] == \"switzerland\", \"cuisine\"] = \"swiss\"\n",
    "recipes.loc[recipes[\"cuisine\"] == \"thailand\", \"cuisine\"] = \"thai\"\n",
    "recipes.loc[recipes[\"cuisine\"] == \"turkey\", \"cuisine\"] = \"turkish\"\n",
    "recipes.loc[recipes[\"cuisine\"] == \"vietnam\", \"cuisine\"] = \"vietnamese\"\n",
    "recipes.loc[recipes[\"cuisine\"] == \"uk-and-ireland\", \"cuisine\"] = \"uk-and-irish\"\n",
    "recipes.loc[recipes[\"cuisine\"] == \"irish\", \"cuisine\"] = \"uk-and-irish\"\n",
    "recipes.loc[recipes[\"cuisine\"] == \"south-america\", \"cuisine\"] = \"south-american\"\n",
    "recipes.loc[recipes[\"cuisine\"] == \"eastern-europe\", \"cuisine\"] = \"eastern-european\"\n"
   ]
  },
  {
   "cell_type": "code",
   "execution_count": null,
   "id": "f2dd9119",
   "metadata": {},
   "outputs": [],
   "source": [
    "print(recipes[\"cuisine\"].unique()) # show actual terms\n",
    "\n"
   ]
  },
  {
   "cell_type": "code",
   "execution_count": null,
   "id": "225264ca",
   "metadata": {},
   "outputs": [],
   "source": [
    "recipes = recipes.replace(to_replace=\"Yes\", value=1)\n",
    "recipes = recipes.replace(to_replace=\"No\", value=0)"
   ]
  },
  {
   "cell_type": "code",
   "execution_count": null,
   "id": "50352922",
   "metadata": {},
   "outputs": [],
   "source": [
    "# get list of cuisines to keep\n",
    "recipes_counts = recipes[\"cuisine\"].value_counts()\n",
    "cuisines_indices = recipes_counts > 50\n",
    "cuisines_to_keep = list(np.array(recipes_counts.index.values)[np.array(cuisines_indices)])\n",
    "cuisines_to_keep = [\"italian\", \"mexican\", \"french\", \"spanish-portuguese\", \"mediterranean\", \"scandinavian\",\\\n",
    "                   \"middleeastern\", \"central_southamerican\", \"greek\", \"caribbean\", \"cajun_creole\",\\\n",
    "                   \"moroccan\", \"african\", \"south-american\", \"north-african\", \"lebanese\", \"east-african\", \"west-african\"]\n",
    "\n",
    "print(cuisines_to_keep)\n",
    "\n",
    "# original one keeps americans that are largest group. it omits only 400 rows.\n",
    "# my selection of healthy cuisines omits almost 50 000 recipes.\n",
    "\n",
    "# pick: italian, mexican, french, spanish-portuguese,\n",
    "# jewish, mediterranean, scandinavian, \n",
    "# middleeastern, central-southamerican, greek, \n",
    "# caribbean, cajun-creole, easterneuropean_russian,\n",
    "# moroccan, african, south-american, north-african, \n",
    "\n",
    "# omitted: \n",
    "# swiss, east-african, west-african, lebanese"
   ]
  },
  {
   "cell_type": "code",
   "execution_count": null,
   "id": "8aebd6bb",
   "metadata": {},
   "outputs": [],
   "source": [
    "# for healthy cuisines only, roughly 9 000 rows accepted\n",
    "\n",
    "rows_before = recipes.shape[0] # number of rows of original dataframe\n",
    "print(\"Number of rows of original dataframe is {}.\".format(rows_before))\n",
    "\n",
    "recipes = recipes.loc[recipes['cuisine'].isin(cuisines_to_keep)]\n",
    "\n",
    "rows_after = recipes.shape[0] # number of rows of processed dataframe\n",
    "print(\"Number of rows of processed dataframe is {}.\".format(rows_after))\n",
    "\n",
    "print(\"{} rows removed!\".format(rows_before - rows_after))"
   ]
  },
  {
   "cell_type": "code",
   "execution_count": null,
   "id": "aacac70d",
   "metadata": {},
   "outputs": [],
   "source": [
    "recipes = recipes.replace(to_replace=\"Yes\", value=1)\n",
    "recipes = recipes.replace(to_replace=\"No\", value=0)"
   ]
  },
  {
   "cell_type": "code",
   "execution_count": null,
   "id": "3b9330d2",
   "metadata": {},
   "outputs": [],
   "source": [
    "recipes.head()"
   ]
  },
  {
   "cell_type": "code",
   "execution_count": null,
   "id": "f308d654",
   "metadata": {},
   "outputs": [],
   "source": [
    "check_recipes = recipes.loc[\n",
    "    (recipes[\"salmon\"] == 1) |\n",
    "    (recipes[\"rye_bread\"] == 1) |\n",
    "    (recipes[\"oat\"] == 1) |\n",
    "    (recipes[\"lingonberry\"] == 1)\n",
    "]\n",
    "\n",
    "check_recipes.cuisine.unique() \n",
    "# 92 recipes have at least one of the Finnish healthy staples (salmon, rye_bread, oat, lingonberry)\n",
    "# these cuisines are french, central_southamerican, scandinavian, african, \n",
    "# italian, mexican, lebanese, south-american, north-african\n",
    "\n",
    "# notably not greek, cajun, moroccan, spanish, or caribbean"
   ]
  },
  {
   "cell_type": "code",
   "execution_count": null,
   "id": "d00bca74",
   "metadata": {},
   "outputs": [],
   "source": [
    "ing = recipes.iloc[:, 1:].sum(axis=0)\n",
    "ing.sort_values(inplace=True)\n",
    "\n",
    "#for col in recipes.columns:\n",
    "#    print(col)\n",
    " \n",
    "print(ing)"
   ]
  },
  {
   "cell_type": "code",
   "execution_count": null,
   "id": "10b9b9c6",
   "metadata": {},
   "outputs": [],
   "source": [
    "# define each column as a pandas series\n",
    "ingredient = pd.Series(ing.index.values, index = np.arange(len(ing)))\n",
    "count = pd.Series(list(ing), index = np.arange(len(ing)))\n",
    "\n",
    "# create the dataframe\n",
    "ing_df = pd.DataFrame(dict(ingredient = ingredient, count = count))\n",
    "ing_df = ing_df[[\"ingredient\", \"count\"]]\n",
    "print(ing_df.to_string())"
   ]
  },
  {
   "cell_type": "code",
   "execution_count": null,
   "id": "a79789d1",
   "metadata": {},
   "outputs": [],
   "source": [
    "ing_df.sort_values([\"count\"], ascending=False, inplace=True)\n",
    "ing_df.reset_index(inplace=True, drop=True)\n",
    "\n",
    "print(ing_df.to_string())"
   ]
  },
  {
   "cell_type": "code",
   "execution_count": null,
   "id": "35e9e169",
   "metadata": {},
   "outputs": [],
   "source": [
    "# compute a profile for each category (cuisine)\n",
    "cuisines = recipes.groupby(\"cuisine\").mean()\n",
    "cuisines.head()\n"
   ]
  },
  {
   "cell_type": "code",
   "execution_count": null,
   "id": "28e8f30c",
   "metadata": {},
   "outputs": [],
   "source": [
    "num_ingredients = 4 # define number of top ingredients to print\n",
    "\n",
    "# define a function that prints the top ingredients for each cuisine\n",
    "def print_top_ingredients(row):\n",
    "    print(row.name.upper())\n",
    "    row_sorted = row.sort_values(ascending=False)*100\n",
    "    top_ingredients = list(row_sorted.index.values)[0:num_ingredients]\n",
    "    row_sorted = list(row_sorted)[0:num_ingredients]\n",
    "\n",
    "    for ind, ingredient in enumerate(top_ingredients):\n",
    "        print(\"%s (%d%%)\" % (ingredient, row_sorted[ind]), end=' ')\n",
    "    print(\"\\n\")\n",
    "\n",
    "# apply function to cuisines dataframe\n",
    "create_cuisines_profiles = cuisines.apply(print_top_ingredients, axis=1)\n",
    "\n",
    "# WHAT HAPPENED TO SPANIS-PORTUGUESE?"
   ]
  },
  {
   "cell_type": "code",
   "execution_count": null,
   "id": "1cc53f4c",
   "metadata": {},
   "outputs": [],
   "source": [
    "# select subset of cuisines\n",
    "#asian_indian_recipes = recipes[recipes.cuisine.isin([\"korean\", \"japanese\", \"chinese\", \"thai\", \"indian\"])]\n",
    "#cuisines = asian_indian_recipes[\"cuisine\"]\n",
    "#ingredients = asian_indian_recipes.iloc[:,1:]\n",
    "ingredients = recipes.iloc[:,1:]\n",
    "cuisines = recipes[\"cuisine\"]\n",
    "\n",
    "mediterranean_tree = tree.DecisionTreeClassifier(max_depth=3)\n",
    "mediterranean_tree.fit(ingredients, cuisines)\n",
    "\n",
    "print(\"Decision tree model saved to mediterranean_tree!\")"
   ]
  },
  {
   "cell_type": "code",
   "execution_count": 2,
   "id": "417b95fd",
   "metadata": {},
   "outputs": [
    {
     "ename": "NameError",
     "evalue": "name 'bamboo_train_tree' is not defined",
     "output_type": "error",
     "traceback": [
      "\u001b[0;31m---------------------------------------------------------------------------\u001b[0m",
      "\u001b[0;31mNameError\u001b[0m                                 Traceback (most recent call last)",
      "\u001b[0;32m<ipython-input-2-c018840ca358>\u001b[0m in \u001b[0;36m<module>\u001b[0;34m\u001b[0m\n\u001b[0;32m----> 1\u001b[0;31m \u001b[0mbamboo_pred_cuisines\u001b[0m \u001b[0;34m=\u001b[0m \u001b[0mbamboo_train_tree\u001b[0m\u001b[0;34m.\u001b[0m\u001b[0mpredict\u001b[0m\u001b[0;34m(\u001b[0m\u001b[0mmediterranean_test_ingredients\u001b[0m\u001b[0;34m)\u001b[0m\u001b[0;34m\u001b[0m\u001b[0;34m\u001b[0m\u001b[0m\n\u001b[0m",
      "\u001b[0;31mNameError\u001b[0m: name 'bamboo_train_tree' is not defined"
     ]
    }
   ],
   "source": [
    "# Model evaluation\n",
    "bamboo = recipes[recipes.cuisine.isin([\"italian\", \"mexican\", \"french\"])]\n",
    "\n",
    "bamboo[\"cuisine\"].value_counts() # how many recipes exist for each cuisine\n",
    "\n",
    "# set sample size\n",
    "sample_n = 30\n",
    "\n",
    "# take 30 recipes from each cuisine\n",
    "random.seed(1234) # set random seed\n",
    "bamboo_test = bamboo.groupby(\"cuisine\", group_keys=False).apply(lambda x: x.sample(sample_n))\n",
    "\n",
    "bamboo_test_ingredients = bamboo_test.iloc[:,1:] # ingredients\n",
    "bamboo_test_cuisines = bamboo_test[\"cuisine\"] # corresponding cuisines or labels\n",
    "\n",
    "# check that we have 30 recipes from each cuisine\n",
    "bamboo_test[\"cuisine\"].value_counts()\n",
    "\n",
    "# classify - choose max depth as it affects false positive rates and confusion matrix\n",
    "# how to plot roc curve to select optimal depth?\n",
    "bamboo_train_tree = tree.DecisionTreeClassifier(max_depth=7)\n",
    "bamboo_train_tree.fit(bamboo_train_ingredients, bamboo_train_cuisines)\n",
    "\n",
    "print(\"Decision tree model saved to bamboo_train_tree!\")\n",
    "\n",
    "bamboo_test_index = bamboo.index.isin(bamboo_test.index)\n",
    "bamboo_train = bamboo[~bamboo_test_index]\n",
    "\n",
    "bamboo_train_ingredients = bamboo_train.iloc[:,1:] # ingredients\n",
    "bamboo_train_cuisines = bamboo_train[\"cuisine\"] # corresponding cuisines or labels\n",
    "\n",
    "bamboo_pred_cuisines = bamboo_train_tree.predict(bamboo_test_ingredients)\n",
    "\n",
    "\n",
    "# plot confusion matrix\n",
    "\n",
    "test_cuisines = np.unique(bamboo_test_cuisines)\n",
    "bamboo_confusion_matrix = confusion_matrix(bamboo_test_cuisines, bamboo_pred_cuisines, test_cuisines)\n",
    "title = 'Bamboo Confusion Matrix'\n",
    "cmap = plt.cm.Blues\n",
    "\n",
    "plt.figure(figsize=(8, 6))\n",
    "bamboo_confusion_matrix = (\n",
    "    bamboo_confusion_matrix.astype('float') / bamboo_confusion_matrix.sum(axis=1)[:, np.newaxis]\n",
    "    ) * 100\n",
    "\n",
    "plt.imshow(bamboo_confusion_matrix, interpolation='nearest', cmap=cmap)\n",
    "plt.title(title)\n",
    "plt.colorbar()\n",
    "tick_marks = np.arange(len(test_cuisines))\n",
    "plt.xticks(tick_marks, test_cuisines)\n",
    "plt.yticks(tick_marks, test_cuisines)\n",
    "\n",
    "fmt = '.2f'\n",
    "thresh = bamboo_confusion_matrix.max() / 2.\n",
    "for i, j in itertools.product(range(bamboo_confusion_matrix.shape[0]), range(bamboo_confusion_matrix.shape[1])):\n",
    "    plt.text(j, i, format(bamboo_confusion_matrix[i, j], fmt),\n",
    "             horizontalalignment=\"center\",\n",
    "             color=\"white\" if bamboo_confusion_matrix[i, j] > thresh else \"black\")\n",
    "\n",
    "plt.tight_layout()\n",
    "plt.ylabel('True label')\n",
    "plt.xlabel('Predicted label')\n",
    "\n",
    "plt.show()"
   ]
  },
  {
   "cell_type": "code",
   "execution_count": null,
   "id": "6dff2eb8",
   "metadata": {},
   "outputs": [],
   "source": [
    "# can't draw this without conda python-graphviz and can't install it for some reason\n",
    "export_graphviz(bamboo_train_tree,\n",
    "                feature_names=list(bamboo_train_ingredients.columns.values),\n",
    "                out_file=\"bamboo_train_tree.dot\",\n",
    "                class_names=np.unique(bamboo_train_cuisines),\n",
    "                filled=True,\n",
    "                node_ids=True,\n",
    "                special_characters=True,\n",
    "                impurity=False,\n",
    "                label=\"all\",\n",
    "                leaves_parallel=False)\n",
    "\n",
    "with open(\"bamboo_train_tree.dot\") as bamboo_train_tree_image:\n",
    "    bamboo_train_tree_graph = bamboo_train_tree_image.read()\n",
    "    !pip install pydot\n",
    "    import pydot\n",
    "    (graph,) = pydot.graph_from_dot_file(\"bamboo_train_tree.dot\")\n",
    "    graph.write_png('somefile.png')\n",
    "graphviz.Source(bamboo_train_tree_graph)"
   ]
  },
  {
   "cell_type": "code",
   "execution_count": null,
   "id": "1e76d770",
   "metadata": {},
   "outputs": [],
   "source": []
  }
 ],
 "metadata": {
  "kernelspec": {
   "display_name": "Python 3",
   "language": "python",
   "name": "python3"
  },
  "language_info": {
   "codemirror_mode": {
    "name": "ipython",
    "version": 3
   },
   "file_extension": ".py",
   "mimetype": "text/x-python",
   "name": "python",
   "nbconvert_exporter": "python",
   "pygments_lexer": "ipython3",
   "version": "3.8.8"
  }
 },
 "nbformat": 4,
 "nbformat_minor": 5
}
