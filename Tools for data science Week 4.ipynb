{
 "cells": [
  {
   "cell_type": "markdown",
   "metadata": {
    "collapsed": true
   },
   "source": [
    "# My Jupyter Notebook on IBM Watson Studio"
   ]
  },
  {
   "cell_type": "markdown",
   "metadata": {},
   "source": [
    "**MRY**\n",
    "\n",
    "PhD student"
   ]
  },
  {
   "cell_type": "markdown",
   "metadata": {},
   "source": [
    "_I am interested in data science because I like to find undiscovered connections from data. Specifically, I am interested in time series and social events, because I want to understand how social processes pan out over time. Social processes are not simply aggregations of individual particles moving over time. Instead, there is interaction and feedback that makes the processes and subsequent problems more complex._"
   ]
  },
  {
   "cell_type": "markdown",
   "metadata": {},
   "source": [
    "### My code describes key statistics of a small dataframe. First, it imports Pandas and Numpy libraries. Next, Pandas option is set to suppress unnecessary scientific notation. Then the dataframe \"series\" is created from myData, and finally \"series\" descriptives are printed."
   ]
  },
  {
   "cell_type": "code",
   "execution_count": 10,
   "metadata": {},
   "outputs": [
    {
     "data": {
      "text/html": [
       "<div>\n",
       "<style scoped>\n",
       "    .dataframe tbody tr th:only-of-type {\n",
       "        vertical-align: middle;\n",
       "    }\n",
       "\n",
       "    .dataframe tbody tr th {\n",
       "        vertical-align: top;\n",
       "    }\n",
       "\n",
       "    .dataframe thead th {\n",
       "        text-align: right;\n",
       "    }\n",
       "</style>\n",
       "<table border=\"1\" class=\"dataframe\">\n",
       "  <thead>\n",
       "    <tr style=\"text-align: right;\">\n",
       "      <th></th>\n",
       "      <th>col1</th>\n",
       "      <th>col2</th>\n",
       "      <th>col3</th>\n",
       "    </tr>\n",
       "  </thead>\n",
       "  <tbody>\n",
       "    <tr>\n",
       "      <th>count</th>\n",
       "      <td>3</td>\n",
       "      <td>3</td>\n",
       "      <td>3</td>\n",
       "    </tr>\n",
       "    <tr>\n",
       "      <th>mean</th>\n",
       "      <td>919292</td>\n",
       "      <td>159987</td>\n",
       "      <td>265526</td>\n",
       "    </tr>\n",
       "    <tr>\n",
       "      <th>std</th>\n",
       "      <td>1.31858e+06</td>\n",
       "      <td>229897</td>\n",
       "      <td>452200</td>\n",
       "    </tr>\n",
       "    <tr>\n",
       "      <th>min</th>\n",
       "      <td>15645</td>\n",
       "      <td>61</td>\n",
       "      <td>912</td>\n",
       "    </tr>\n",
       "    <tr>\n",
       "      <th>25%</th>\n",
       "      <td>162760</td>\n",
       "      <td>28258.5</td>\n",
       "      <td>4456</td>\n",
       "    </tr>\n",
       "    <tr>\n",
       "      <th>50%</th>\n",
       "      <td>309876</td>\n",
       "      <td>56456</td>\n",
       "      <td>8000</td>\n",
       "    </tr>\n",
       "    <tr>\n",
       "      <th>75%</th>\n",
       "      <td>1.37112e+06</td>\n",
       "      <td>239950</td>\n",
       "      <td>397833</td>\n",
       "    </tr>\n",
       "    <tr>\n",
       "      <th>max</th>\n",
       "      <td>2.43236e+06</td>\n",
       "      <td>423445</td>\n",
       "      <td>787666</td>\n",
       "    </tr>\n",
       "  </tbody>\n",
       "</table>\n",
       "</div>"
      ],
      "text/plain": [
       "             col1    col2   col3\n",
       "count           3       3      3\n",
       "mean       919292  159987 265526\n",
       "std   1.31858e+06  229897 452200\n",
       "min         15645      61    912\n",
       "25%        162760 28258.5   4456\n",
       "50%        309876   56456   8000\n",
       "75%   1.37112e+06  239950 397833\n",
       "max   2.43236e+06  423445 787666"
      ]
     },
     "execution_count": 10,
     "metadata": {},
     "output_type": "execute_result"
    }
   ],
   "source": [
    "import pandas as pd\n",
    "import numpy as np\n",
    "\n",
    "# show describe () floats as string to avoid needless scientific exponentials\n",
    "#pd.set_option('display.float_format', str) #won't round\n",
    "pd.set_option('display.float_format', lambda x: '%g' % x) #rounds\n",
    "\n",
    "myData = {\"col1\":[15645,2432356,309876],\"col2\":[423445,56456,61],\"col3\":[787666,8000,912]}\n",
    "series = pd.DataFrame(data=myData)\n",
    "\n",
    "series.describe()"
   ]
  },
  {
   "cell_type": "markdown",
   "metadata": {},
   "source": [
    "Here, I was testing how to view descriptive statistics without float (in mean) and exponentials. There are many ways to do this suppression:\n",
    "1. suppress during the whole program https://stackoverflow.com/questions/17737300/suppressing-scientific-notation-in-pandas\n",
    "2. suppress this dataframe during this output only https://stackoverflow.com/questions/40347689/dataframe-describe-suppress-scientific-notation\n",
    "3. suppress this column https://stackoverflow.com/questions/40347689/dataframe-describe-suppress-scientific-notation\n",
    "\n",
    "Notes:\n",
    "- it is interesting to see how the outcome changes with different methods\n",
    "- describe() always presents the exponentials if they are in billions (7 numbers), like 2432356 in col1"
   ]
  },
  {
   "cell_type": "code",
   "execution_count": null,
   "metadata": {},
   "outputs": [],
   "source": []
  }
 ],
 "metadata": {
  "kernelspec": {
   "display_name": "Python 3",
   "language": "python",
   "name": "python3"
  },
  "language_info": {
   "codemirror_mode": {
    "name": "ipython",
    "version": 3
   },
   "file_extension": ".py",
   "mimetype": "text/x-python",
   "name": "python",
   "nbconvert_exporter": "python",
   "pygments_lexer": "ipython3",
   "version": "3.8.8"
  }
 },
 "nbformat": 4,
 "nbformat_minor": 1
}
