{
 "cells": [
  {
   "cell_type": "code",
   "execution_count": 12,
   "id": "f8580b5b",
   "metadata": {},
   "outputs": [
    {
     "name": "stdout",
     "output_type": "stream",
     "text": [
      "Requirement already satisfied: lxml in /Users/mry/opt/anaconda3/lib/python3.8/site-packages (4.6.3)\r\n"
     ]
    }
   ],
   "source": [
    "#!pip install html5lib\n",
    "#!pip install lxml\n",
    "\n",
    "from bs4 import BeautifulSoup\n",
    "import requests\n",
    "import html5lib\n",
    "import lxml\n",
    "from html.parser import HTMLParser"
   ]
  },
  {
   "cell_type": "code",
   "execution_count": 49,
   "id": "4d8ee8fa",
   "metadata": {},
   "outputs": [
    {
     "ename": "SyntaxError",
     "evalue": "invalid syntax (<ipython-input-49-027ae134b400>, line 1)",
     "output_type": "error",
     "traceback": [
      "\u001b[0;36m  File \u001b[0;32m\"<ipython-input-49-027ae134b400>\"\u001b[0;36m, line \u001b[0;32m1\u001b[0m\n\u001b[0;31m    table=\"<html><body><table><tr><td id='flight'>Flight No</td><td>Launch site</td> <td>Payload mass</td><td>Airline logo</td></tr><tr> <td>1</td><td><a href='https://en.wikipedia.org/wiki/Florida'>Florida<a></td><td>300 kg</td><td><img src=\"https://1.dam.s81c.com/public/content/dam/worldwide-content/homepage/ul/g/38/cb/20211004-ls-trustworthy-ai-720x360.jpg\"width= 100px/></td></tr><tr><td>2</td><td><a href='https://en.wikipedia.org/wiki/Texas'>Texas</a></td><td>94 kg</td><td><img src=\"https://1.dam.s81c.com/public/content/dam/worldwide-content/homepage/ul/g/4a/97/20211004-cert-ai-fairness-360-26157.jpg\" width= 100px/></td></tr><tr><td>3</td><td><a href='https://en.wikipedia.org/wiki/Florida'>Florida<a> </td><td>80 kg</td><td><img src=\"https://1.dam.s81c.com/public/content/dam/worldwide-content/homepage/ul/g/38/cb/20211004-ls-trustworthy-ai-720x360.jpg\"width= 100px/></td></tr></table></body></html>\"\u001b[0m\n\u001b[0m                                                                                                                                                                                                                                                   ^\u001b[0m\n\u001b[0;31mSyntaxError\u001b[0m\u001b[0;31m:\u001b[0m invalid syntax\n"
     ]
    }
   ],
   "source": [
    "# why isn't this new table with images working - it is kosher html?\n",
    "# it would be nice to try out img stripping\n",
    "\n",
    "table=\"<html><body><table><tr><td id='flight'>Flight No</td><td>Launch site</td> <td>Payload mass</td><td>Airline logo</td></tr><tr> <td>1</td><td><a href='https://en.wikipedia.org/wiki/Florida'>Florida<a></td><td>300 kg</td><td><img src=\"https://1.dam.s81c.com/public/content/dam/worldwide-content/homepage/ul/g/38/cb/20211004-ls-trustworthy-ai-720x360.jpg\"width= 100px/></td></tr><tr><td>2</td><td><a href='https://en.wikipedia.org/wiki/Texas'>Texas</a></td><td>94 kg</td><td><img src=\"https://1.dam.s81c.com/public/content/dam/worldwide-content/homepage/ul/g/4a/97/20211004-cert-ai-fairness-360-26157.jpg\" width= 100px/></td></tr><tr><td>3</td><td><a href='https://en.wikipedia.org/wiki/Florida'>Florida<a> </td><td>80 kg</td><td><img src=\"https://1.dam.s81c.com/public/content/dam/worldwide-content/homepage/ul/g/38/cb/20211004-ls-trustworthy-ai-720x360.jpg\"width= 100px/></td></tr></table></body></html>\"\n",
    "table"
   ]
  },
  {
   "cell_type": "code",
   "execution_count": 50,
   "id": "878dbb84",
   "metadata": {},
   "outputs": [
    {
     "name": "stdout",
     "output_type": "stream",
     "text": [
      "<html>\n",
      " <head>\n",
      " </head>\n",
      " <body>\n",
      "  <table>\n",
      "   <tbody>\n",
      "    <tr>\n",
      "     <td id=\"flight\">\n",
      "      Flight No\n",
      "     </td>\n",
      "     <td>\n",
      "      Launch site\n",
      "     </td>\n",
      "     <td>\n",
      "      Payload mass\n",
      "     </td>\n",
      "    </tr>\n",
      "    <tr>\n",
      "     <td>\n",
      "      1\n",
      "     </td>\n",
      "     <td>\n",
      "      <a href=\"https://en.wikipedia.org/wiki/Florida\">\n",
      "       Florida\n",
      "      </a>\n",
      "      <a>\n",
      "      </a>\n",
      "     </td>\n",
      "     <td>\n",
      "      300 kg\n",
      "     </td>\n",
      "    </tr>\n",
      "    <tr>\n",
      "     <td>\n",
      "      2\n",
      "     </td>\n",
      "     <td>\n",
      "      <a href=\"https://en.wikipedia.org/wiki/Texas\">\n",
      "       Texas\n",
      "      </a>\n",
      "     </td>\n",
      "     <td>\n",
      "      94 kg\n",
      "     </td>\n",
      "    </tr>\n",
      "    <tr>\n",
      "     <td>\n",
      "      <img/>\n",
      "     </td>\n",
      "     <td>\n",
      "      <a href=\"https://en.wikipedia.org/wiki/Florida\">\n",
      "       Florida\n",
      "      </a>\n",
      "      <a>\n",
      "      </a>\n",
      "     </td>\n",
      "     <td>\n",
      "      80 kg\n",
      "     </td>\n",
      "    </tr>\n",
      "   </tbody>\n",
      "  </table>\n",
      " </body>\n",
      "</html>\n"
     ]
    }
   ],
   "source": [
    "table_bs = BeautifulSoup(table, 'html5lib')\n",
    "print(table_bs.prettify())"
   ]
  },
  {
   "cell_type": "code",
   "execution_count": 45,
   "id": "b3969f5e",
   "metadata": {},
   "outputs": [
    {
     "data": {
      "text/plain": [
       "[]"
      ]
     },
     "execution_count": 45,
     "metadata": {},
     "output_type": "execute_result"
    }
   ],
   "source": [
    "# parsers routinely add end and start tags if they find pairless\n",
    "# this generates empty tags, like with Florida above\n",
    "# to strip empty tags, run below code. it might be slow in actual reality?\n",
    "# note, can't do this if there are images \n",
    "# even images <img></img> get parsed as <img /> with by default are empty\n",
    "\n",
    "for x in table_bs.find_all():\n",
    "    for tag in table_bs.find_all(img=False):\n",
    "        if (len(x.get_text(strip=True)) == 0):\n",
    "            x.extract()\n",
    "\n",
    "table_bs.find_all(\"img\")"
   ]
  },
  {
   "cell_type": "code",
   "execution_count": 17,
   "id": "18e1972d",
   "metadata": {},
   "outputs": [
    {
     "name": "stdout",
     "output_type": "stream",
     "text": [
      "row 0\n",
      "column 0 cell Flight No\n",
      "column 1 cell Launch site\n",
      "column 2 cell Payload mass\n",
      "row 1\n",
      "column 0 cell 1\n",
      "column 1 cell Florida\n",
      "column 2 cell 300 kg\n",
      "row 2\n",
      "column 0 cell 2\n",
      "column 1 cell Texas\n",
      "column 2 cell 94 kg\n",
      "row 3\n",
      "column 0 cell 3\n",
      "column 1 cell Florida\n",
      "column 2 cell 80 kg\n"
     ]
    }
   ],
   "source": [
    "table_rows=table_bs.find_all('tr')\n",
    "\n",
    "for i,row in enumerate(table_rows):\n",
    "    print(\"row\",i)\n",
    "    cells=row.find_all('td')\n",
    "    for j,cell in enumerate(cells):\n",
    "        print('column',j,\"cell\",cell.string)"
   ]
  },
  {
   "cell_type": "code",
   "execution_count": 21,
   "id": "f5a92b75",
   "metadata": {},
   "outputs": [
    {
     "name": "stdout",
     "output_type": "stream",
     "text": [
      "https://en.wikipedia.org/wiki/Florida\n",
      "https://en.wikipedia.org/wiki/Texas\n",
      "https://en.wikipedia.org/wiki/Florida\n"
     ]
    }
   ],
   "source": [
    "# find all links in html\n",
    "\n",
    "for link in table_bs.find_all('a',href=True):  # in html anchor/link is represented by the tag <a>\n",
    "\n",
    "    print(link.get('href'))"
   ]
  },
  {
   "cell_type": "code",
   "execution_count": 22,
   "id": "407cac1c",
   "metadata": {},
   "outputs": [],
   "source": [
    "# find all images\n",
    "\n",
    "for link in table_bs.find_all('img'):# in html image is represented by the tag <img>\n",
    "    print(link)\n",
    "    print(link.get('src'))"
   ]
  },
  {
   "cell_type": "code",
   "execution_count": null,
   "id": "7916eca0",
   "metadata": {},
   "outputs": [],
   "source": []
  }
 ],
 "metadata": {
  "kernelspec": {
   "display_name": "Python 3",
   "language": "python",
   "name": "python3"
  },
  "language_info": {
   "codemirror_mode": {
    "name": "ipython",
    "version": 3
   },
   "file_extension": ".py",
   "mimetype": "text/x-python",
   "name": "python",
   "nbconvert_exporter": "python",
   "pygments_lexer": "ipython3",
   "version": "3.8.8"
  }
 },
 "nbformat": 4,
 "nbformat_minor": 5
}
